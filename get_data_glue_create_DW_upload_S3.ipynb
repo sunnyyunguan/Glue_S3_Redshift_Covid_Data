{
 "cells": [
  {
   "cell_type": "code",
   "execution_count": 30,
   "id": "cb605892-97c0-443e-a4e2-02b31ad0aa7b",
   "metadata": {},
   "outputs": [],
   "source": [
    "import boto3\n",
    "import pandas as pd\n",
    "from io import StringIO\n",
    "import configparser\n",
    "import time\n",
    "import os"
   ]
  },
  {
   "cell_type": "code",
   "execution_count": 31,
   "id": "f1eb0751-d066-439b-a9a2-fd28d5aa68a4",
   "metadata": {},
   "outputs": [],
   "source": [
    "config = configparser.ConfigParser()\n",
    "config.read_file(open('cluster.config'))\n",
    "\n",
    "AWS_ACCESS_KEY = config.get(\"AWS\",\"KEY\")\n",
    "AWS_SECRET_KEY = config.get(\"AWS\",\"SECRET\")\n",
    "AWS_REGION = config.get(\"AWS\",\"REGION\")\n",
    "SCHEMA_NAME = config.get(\"DB\",\"SCHEMA\")\n",
    "S3_STAGING_DIR = config.get(\"S3\",\"S3_STAGING_DIR\")\n",
    "S3_BUCKET_NAME = config.get(\"S3\",\"S3_BUCKET_NAME\")\n",
    "S3_OUTPUT_DIRECTORY = config.get(\"S3\",\"S3_OUTPUT_DIRECTORY\")"
   ]
  },
  {
   "cell_type": "markdown",
   "id": "f6f280f4-0494-4a85-946f-eecf32c559d7",
   "metadata": {},
   "source": [
    "# get the list of tables from Glue, download files and load into list of dictionary"
   ]
  },
  {
   "cell_type": "code",
   "execution_count": 219,
   "id": "b175f61d-b6db-4812-aa61-ba7e56c2d2a1",
   "metadata": {},
   "outputs": [
    {
     "data": {
      "text/plain": [
       "['enigma_jhud',\n",
       " 'enigma_nytimes_csv',\n",
       " 'rearc_covid_testing_data_states_daily',\n",
       " 'rearc_rearc_usa_hospital_beds',\n",
       " 'static_datasets_countrycode',\n",
       " 'static_datasets_countypopulation',\n",
       " 'static_datasets_state_abv']"
      ]
     },
     "execution_count": 219,
     "metadata": {},
     "output_type": "execute_result"
    }
   ],
   "source": [
    "# Use boto3 library in Python to paginate through all tables from AWS Glue Data Catalog\n",
    "from botocore.exceptions import ClientError\n",
    "\n",
    "def paginate_through_tables(database_name, max_items):\n",
    "   session = boto3.session.Session()\n",
    "   glue_client = session.client('glue', aws_access_key_id = AWS_ACCESS_KEY, aws_secret_access_key = AWS_SECRET_KEY, region_name = AWS_REGION)\n",
    "   try:\n",
    "       response = glue_client.get_tables(DatabaseName=\"covid19\")\n",
    "       tables = []\n",
    "       for item in enumerate(response[\"TableList\"]):\n",
    "           table_name = item[1][\"Name\"]\n",
    "           tables.append(table_name)\n",
    "            \n",
    "   except ClientError as e:\n",
    "        raise Exception(\"boto3 client error in paginate_through_tables: \" + e.__str__())\n",
    "        \n",
    "   return tables\n",
    "\n",
    "tables = paginate_through_tables(\"covid19\",20)\n",
    "tables"
   ]
  },
  {
   "cell_type": "code",
   "execution_count": 220,
   "id": "80c7f52e-c1d8-44a8-a831-89081496a2b8",
   "metadata": {},
   "outputs": [],
   "source": [
    "Dict = {}\n",
    "def download_and_load_query_results(\n",
    "    client: boto3.client, query_response: Dict) -> pd.DataFrame:\n",
    "    while True:\n",
    "        try:\n",
    "            # This function only loads the first 1000 rows\n",
    "            client.get_query_results(QueryExecutionId=query_response[\"QueryExecutionId\"])\n",
    "            break\n",
    "        except Exception as err:\n",
    "            if \"not yet finished\" in str(err):\n",
    "                time.sleep(0.001)\n",
    "            else:\n",
    "                raise err\n",
    "    temp_file: str = \"athena_query_results.csv\"\n",
    "    s3_client = boto3.client(\"s3\", aws_access_key_id = AWS_ACCESS_KEY, aws_secret_access_key = AWS_SECRET_KEY, region_name = AWS_REGION)\n",
    "    #s3.download_file('BUCKET_NAME', 'OBJECT_NAME', 'FILE_NAME')\n",
    "    s3_client.download_file(S3_BUCKET_NAME, f\"{S3_OUTPUT_DIRECTORY}/{query_response['QueryExecutionId']}.csv\",\n",
    "                            temp_file)\n",
    "    result_df = pd.read_csv(temp_file)\n",
    "    os.remove(temp_file)\n",
    "    return result_df"
   ]
  },
  {
   "cell_type": "code",
   "execution_count": 221,
   "id": "da65b664-fec1-4c31-8abb-e930dbceaf07",
   "metadata": {},
   "outputs": [],
   "source": [
    "#athena_client.get_query_results(QueryExecutionId=response['QueryExecutionId'])"
   ]
  },
  {
   "cell_type": "code",
   "execution_count": 222,
   "id": "98cff32e-d218-45b4-8404-3527ccacc75d",
   "metadata": {},
   "outputs": [],
   "source": [
    "athena_client = boto3.client(\n",
    "    \"athena\",\n",
    "    aws_access_key_id = AWS_ACCESS_KEY,\n",
    "    aws_secret_access_key = AWS_SECRET_KEY,\n",
    "    region_name = AWS_REGION\n",
    ")"
   ]
  },
  {
   "cell_type": "code",
   "execution_count": 223,
   "id": "deae78da-4c4a-4c94-a8f7-75d70a78bfba",
   "metadata": {},
   "outputs": [],
   "source": [
    "all_data = []\n",
    "for table_name in tables:\n",
    "    Query = \"SELECT * FROM \" + table_name\n",
    "    #print(Query)\n",
    "    time.sleep(0.1)\n",
    "    response = athena_client.start_query_execution(\n",
    "                         QueryString = Query,\n",
    "                         QueryExecutionContext = {\"Database\": SCHEMA_NAME},\n",
    "                         ResultConfiguration = {\"OutputLocation\": S3_STAGING_DIR,\n",
    "                                               \"EncryptionConfiguration\": {\"EncryptionOption\": \"SSE_S3\"}                                                   }\n",
    "           )\n",
    "    try:\n",
    "        dict = {}\n",
    "        dict[\"table_name\"] = table_name\n",
    "        dict[\"QueryExecutionId\"] = response[\"QueryExecutionId\"]\n",
    "        dict[\"df\"] = download_and_load_query_results(athena_client, response)\n",
    "    except Exception as err:\n",
    "        raise err\n",
    "\n",
    "    all_data.append(dict)"
   ]
  },
  {
   "cell_type": "code",
   "execution_count": 224,
   "id": "ad0a8ceb-ce63-4784-a2e7-03b14c7e84b6",
   "metadata": {},
   "outputs": [
    {
     "data": {
      "text/plain": [
       "7"
      ]
     },
     "execution_count": 224,
     "metadata": {},
     "output_type": "execute_result"
    }
   ],
   "source": [
    "len(all_data)"
   ]
  },
  {
   "cell_type": "code",
   "execution_count": 225,
   "id": "3390653d-e488-4c34-b342-c0ffe93890c6",
   "metadata": {},
   "outputs": [
    {
     "name": "stdout",
     "output_type": "stream",
     "text": [
      "static_datasets_state_abv\n",
      "30a7f849-f37b-4ec9-b946-13cccc760040\n",
      "(52, 2)\n"
     ]
    }
   ],
   "source": [
    "print(all_data[6][\"table_name\"])\n",
    "print(all_data[6][\"QueryExecutionId\"])\n",
    "print(all_data[6][\"df\"].shape)"
   ]
  },
  {
   "cell_type": "code",
   "execution_count": 226,
   "id": "1113dfac-99ef-4701-a547-2d4b178561ce",
   "metadata": {},
   "outputs": [
    {
     "name": "stdout",
     "output_type": "stream",
     "text": [
      "static_datasets_state_abv\n"
     ]
    }
   ],
   "source": [
    "print(all_data[6][\"table_name\"])\n",
    "state_abv = all_data[6][\"df\"]\n",
    "state_abv.columns = state_abv.iloc[0]\n",
    "state_abv = state_abv[1:]\n",
    "#state_abv"
   ]
  },
  {
   "cell_type": "markdown",
   "id": "b3f22b24-13c1-48bf-958b-7e3238577826",
   "metadata": {},
   "source": [
    "# create fact and dimension tables"
   ]
  },
  {
   "cell_type": "code",
   "execution_count": 255,
   "id": "312a711c-5cbf-4b1b-9839-af9e74f92cf6",
   "metadata": {},
   "outputs": [
    {
     "data": {
      "text/plain": [
       "['enigma_jhud',\n",
       " 'enigma_nytimes_csv',\n",
       " 'rearc_covid_testing_data_states_daily',\n",
       " 'rearc_rearc_usa_hospital_beds',\n",
       " 'static_datasets_countrycode',\n",
       " 'static_datasets_countypopulation',\n",
       " 'static_datasets_state_abv']"
      ]
     },
     "execution_count": 255,
     "metadata": {},
     "output_type": "execute_result"
    }
   ],
   "source": [
    "tables"
   ]
  },
  {
   "cell_type": "code",
   "execution_count": 256,
   "id": "269fd5a3-4490-4e0e-8522-7acd838b81e8",
   "metadata": {},
   "outputs": [
    {
     "data": {
      "text/plain": [
       "(27992, 13)"
      ]
     },
     "execution_count": 256,
     "metadata": {},
     "output_type": "execute_result"
    }
   ],
   "source": [
    "# table enigma_jhud\n",
    "factCovid_1_final = all_data[0][\"df\"][['fips','province_state','country_region','confirmed','deaths','recovered','active']]\n",
    "# table rearc_covid_testing_data_states_daily\n",
    "factCovid_2_final = all_data[2][\"df\"][['fips','date','positive','negative','hospitalizedcurrently','hospitalized', 'hospitalizeddischarged']]\n",
    "factCovid = pd.merge(factCovid_1_final, factCovid_2_final, on='fips', how='inner')\n",
    "factCovid.shape                                      "
   ]
  },
  {
   "cell_type": "code",
   "execution_count": 257,
   "id": "bcb04cef-9c5e-41af-a709-5ff05ca4f32d",
   "metadata": {},
   "outputs": [],
   "source": [
    "factCovid = factCovid[factCovid['fips'].isnull() == False]"
   ]
  },
  {
   "cell_type": "code",
   "execution_count": 260,
   "id": "76915d6d-fec5-438c-8e74-ba6a44cecf09",
   "metadata": {},
   "outputs": [],
   "source": [
    "dimRegion_1 = all_data[0][\"df\"][['fips', 'province_state', 'country_region', 'latitude', 'longitude']]\n",
    "dimRegion_2 = all_data[1][\"df\"][['fips', 'county', 'state']]\n",
    "dimRegion = pd.merge(dimRegion_1, dimRegion_2, on='fips', how='inner')\n",
    "dimRegion = dimRegion[dimRegion['fips'].isnull() == False]"
   ]
  },
  {
   "cell_type": "code",
   "execution_count": 262,
   "id": "65c214d5-21ca-4fbb-9d49-fbeb09f7ce78",
   "metadata": {},
   "outputs": [],
   "source": [
    "#dimRegion.shape"
   ]
  },
  {
   "cell_type": "code",
   "execution_count": 264,
   "id": "ebc9acda-ae31-441f-9560-66b11dc1a7a5",
   "metadata": {},
   "outputs": [],
   "source": [
    "dimHospital = all_data[3][\"df\"][['fips','state_name','latitude','longtitude','hq_address','hospital_name','hospital_type','hq_city','hq_state']]\n",
    "dimHospital = dimHospital[dimHospital['fips'].isnull() == False]\n",
    "#dimHospital.shape"
   ]
  },
  {
   "cell_type": "code",
   "execution_count": 265,
   "id": "9a191dab-7a67-46f2-8299-294ce8921362",
   "metadata": {},
   "outputs": [],
   "source": [
    "dimDate = all_data[2][\"df\"][['fips','date']].fillna(0)\n",
    "dimDate['fips'] = dimDate['fips'].astype(int)\n",
    "dimDate['date'] = pd.to_datetime(dimDate['date'], format='%Y%m%d')\n",
    "dimDate['year'] = dimDate['date'].dt.year\n",
    "dimDate['month'] = dimDate['date'].dt.month\n",
    "dimDate['day_of_week'] = dimDate['date'].dt.dayofweek"
   ]
  },
  {
   "cell_type": "code",
   "execution_count": 266,
   "id": "2786598a-24fe-4a9e-a86d-5db78fbe8079",
   "metadata": {},
   "outputs": [
    {
     "data": {
      "text/html": [
       "<div>\n",
       "<style scoped>\n",
       "    .dataframe tbody tr th:only-of-type {\n",
       "        vertical-align: middle;\n",
       "    }\n",
       "\n",
       "    .dataframe tbody tr th {\n",
       "        vertical-align: top;\n",
       "    }\n",
       "\n",
       "    .dataframe thead th {\n",
       "        text-align: right;\n",
       "    }\n",
       "</style>\n",
       "<table border=\"1\" class=\"dataframe\">\n",
       "  <thead>\n",
       "    <tr style=\"text-align: right;\">\n",
       "      <th></th>\n",
       "      <th>fips</th>\n",
       "      <th>date</th>\n",
       "      <th>year</th>\n",
       "      <th>month</th>\n",
       "      <th>day_of_week</th>\n",
       "    </tr>\n",
       "  </thead>\n",
       "  <tbody>\n",
       "    <tr>\n",
       "      <th>0</th>\n",
       "      <td>49</td>\n",
       "      <td>2021-02-20</td>\n",
       "      <td>2021</td>\n",
       "      <td>2</td>\n",
       "      <td>5</td>\n",
       "    </tr>\n",
       "    <tr>\n",
       "      <th>1</th>\n",
       "      <td>51</td>\n",
       "      <td>2021-02-20</td>\n",
       "      <td>2021</td>\n",
       "      <td>2</td>\n",
       "      <td>5</td>\n",
       "    </tr>\n",
       "    <tr>\n",
       "      <th>2</th>\n",
       "      <td>78</td>\n",
       "      <td>2021-02-20</td>\n",
       "      <td>2021</td>\n",
       "      <td>2</td>\n",
       "      <td>5</td>\n",
       "    </tr>\n",
       "    <tr>\n",
       "      <th>3</th>\n",
       "      <td>50</td>\n",
       "      <td>2021-02-20</td>\n",
       "      <td>2021</td>\n",
       "      <td>2</td>\n",
       "      <td>5</td>\n",
       "    </tr>\n",
       "    <tr>\n",
       "      <th>4</th>\n",
       "      <td>53</td>\n",
       "      <td>2021-02-20</td>\n",
       "      <td>2021</td>\n",
       "      <td>2</td>\n",
       "      <td>5</td>\n",
       "    </tr>\n",
       "    <tr>\n",
       "      <th>5</th>\n",
       "      <td>55</td>\n",
       "      <td>2021-02-20</td>\n",
       "      <td>2021</td>\n",
       "      <td>2</td>\n",
       "      <td>5</td>\n",
       "    </tr>\n",
       "    <tr>\n",
       "      <th>6</th>\n",
       "      <td>54</td>\n",
       "      <td>2021-02-20</td>\n",
       "      <td>2021</td>\n",
       "      <td>2</td>\n",
       "      <td>5</td>\n",
       "    </tr>\n",
       "    <tr>\n",
       "      <th>7</th>\n",
       "      <td>56</td>\n",
       "      <td>2021-02-20</td>\n",
       "      <td>2021</td>\n",
       "      <td>2</td>\n",
       "      <td>5</td>\n",
       "    </tr>\n",
       "    <tr>\n",
       "      <th>8</th>\n",
       "      <td>2</td>\n",
       "      <td>2021-02-19</td>\n",
       "      <td>2021</td>\n",
       "      <td>2</td>\n",
       "      <td>4</td>\n",
       "    </tr>\n",
       "    <tr>\n",
       "      <th>9</th>\n",
       "      <td>1</td>\n",
       "      <td>2021-02-19</td>\n",
       "      <td>2021</td>\n",
       "      <td>2</td>\n",
       "      <td>4</td>\n",
       "    </tr>\n",
       "  </tbody>\n",
       "</table>\n",
       "</div>"
      ],
      "text/plain": [
       "   fips       date  year  month  day_of_week\n",
       "0    49 2021-02-20  2021      2            5\n",
       "1    51 2021-02-20  2021      2            5\n",
       "2    78 2021-02-20  2021      2            5\n",
       "3    50 2021-02-20  2021      2            5\n",
       "4    53 2021-02-20  2021      2            5\n",
       "5    55 2021-02-20  2021      2            5\n",
       "6    54 2021-02-20  2021      2            5\n",
       "7    56 2021-02-20  2021      2            5\n",
       "8     2 2021-02-19  2021      2            4\n",
       "9     1 2021-02-19  2021      2            4"
      ]
     },
     "execution_count": 266,
     "metadata": {},
     "output_type": "execute_result"
    }
   ],
   "source": [
    "dimDate.head(10)"
   ]
  },
  {
   "cell_type": "code",
   "execution_count": 267,
   "id": "b86aa017-e9ef-4069-9806-1c2a691d5134",
   "metadata": {},
   "outputs": [],
   "source": [
    "star_schema = []"
   ]
  },
  {
   "cell_type": "code",
   "execution_count": 268,
   "id": "6ad6a8e2-f1fb-4fae-9e08-cc8854108d91",
   "metadata": {},
   "outputs": [],
   "source": [
    "dict = {}\n",
    "dict[\"table_name\"] = \"factCovid\"\n",
    "dict[\"df\"] = factCovid\n",
    "star_schema.append(dict)\n",
    "\n",
    "dict = {}\n",
    "dict[\"table_name\"] = \"dimRegion\"\n",
    "dict[\"df\"] = dimRegion\n",
    "star_schema.append(dict)\n",
    "\n",
    "dict = {}\n",
    "dict[\"table_name\"] = \"dimHospital\"\n",
    "dict[\"df\"] = dimHospital\n",
    "star_schema.append(dict)\n",
    "\n",
    "dict = {}\n",
    "dict[\"table_name\"] = \"dimDate\"\n",
    "dict[\"df\"] = dimDate\n",
    "star_schema.append(dict)"
   ]
  },
  {
   "cell_type": "code",
   "execution_count": 269,
   "id": "36901624-0e0b-41b7-a2e1-5cf15f201f50",
   "metadata": {},
   "outputs": [
    {
     "name": "stdout",
     "output_type": "stream",
     "text": [
      "factCovid\n",
      "dimRegion\n",
      "dimHospital\n",
      "dimDate\n"
     ]
    }
   ],
   "source": [
    "print(star_schema[0][\"table_name\"])\n",
    "print(star_schema[1][\"table_name\"])\n",
    "print(star_schema[2][\"table_name\"])\n",
    "print(star_schema[3][\"table_name\"])"
   ]
  },
  {
   "cell_type": "code",
   "execution_count": 270,
   "id": "bfb48d4d-1ddb-4bfe-82b6-0016147b0b43",
   "metadata": {},
   "outputs": [],
   "source": [
    "#dimRegion.to_csv('dimRegion.csv')"
   ]
  },
  {
   "cell_type": "markdown",
   "id": "9110c242-a961-43e5-8558-2db828ebe36c",
   "metadata": {},
   "source": [
    "# save fact and dimension tables to S3"
   ]
  },
  {
   "cell_type": "code",
   "execution_count": 271,
   "id": "628f162c-0bfd-4faf-af68-34a60b49dff2",
   "metadata": {},
   "outputs": [
    {
     "data": {
      "text/plain": [
       "'sunny-general-bucket'"
      ]
     },
     "execution_count": 271,
     "metadata": {},
     "output_type": "execute_result"
    }
   ],
   "source": [
    "S3_BUCKET_NAME"
   ]
  },
  {
   "cell_type": "code",
   "execution_count": 273,
   "id": "d13d39b7-d8f3-48a5-917b-e4dc495dff91",
   "metadata": {},
   "outputs": [],
   "source": [
    "def load_csv_to_s3(star_schema: list):\n",
    "    s3_resource = boto3.resource('s3', aws_access_key_id = AWS_ACCESS_KEY, aws_secret_access_key = AWS_SECRET_KEY, region_name = AWS_REGION)\n",
    "\n",
    "    for i in range(len(star_schema)):\n",
    "        csv_buffer = StringIO()\n",
    "        #print(star_schema[i][\"table_name\"])\n",
    "        star_schema[i][\"df\"].to_csv(csv_buffer, index=False)\n",
    "        filename = 'output/' + star_schema[i][\"table_name\"] + '.csv'\n",
    "      \n",
    "        #if i==1:\n",
    "            #print(filename)\n",
    "            #print(csv_buffer.getvalue())\n",
    "        s3_resource.Object(S3_BUCKET_NAME, filename).put(Body=csv_buffer.getvalue())                  "
   ]
  },
  {
   "cell_type": "code",
   "execution_count": 274,
   "id": "649c160f-bfde-442f-b028-3adc696d31d4",
   "metadata": {},
   "outputs": [],
   "source": [
    "load_csv_to_s3(star_schema)    "
   ]
  },
  {
   "cell_type": "markdown",
   "id": "10be3a96-b932-4066-8b17-37307277a4aa",
   "metadata": {},
   "source": [
    "# obtain DDL that can be used to create table on Redshift"
   ]
  },
  {
   "cell_type": "code",
   "execution_count": 275,
   "id": "9d51491c-23d2-4f43-8493-b01519fdb525",
   "metadata": {},
   "outputs": [
    {
     "data": {
      "text/plain": [
       "'dimDate'"
      ]
     },
     "execution_count": 275,
     "metadata": {},
     "output_type": "execute_result"
    }
   ],
   "source": [
    "star_schema[3][\"table_name\"]"
   ]
  },
  {
   "cell_type": "code",
   "execution_count": 279,
   "id": "e2dec915-fb9c-41b2-b15a-f8325a4c9f93",
   "metadata": {},
   "outputs": [
    {
     "name": "stdout",
     "output_type": "stream",
     "text": [
      "CREATE TABLE \"factCovid\" (\n",
      "\"fips\" REAL,\n",
      "  \"province_state\" TEXT,\n",
      "  \"country_region\" TEXT,\n",
      "  \"confirmed\" REAL,\n",
      "  \"deaths\" REAL,\n",
      "  \"recovered\" REAL,\n",
      "  \"active\" REAL,\n",
      "  \"date\" INTEGER,\n",
      "  \"positive\" INTEGER,\n",
      "  \"negative\" REAL,\n",
      "  \"hospitalizedcurrently\" REAL,\n",
      "  \"hospitalized\" REAL,\n",
      "  \"hospitalizeddischarged\" REAL\n",
      ")\n",
      "CREATE TABLE \"dimRegion\" (\n",
      "\"fips\" REAL,\n",
      "  \"province_state\" TEXT,\n",
      "  \"country_region\" TEXT,\n",
      "  \"latitude\" REAL,\n",
      "  \"longitude\" REAL,\n",
      "  \"county\" TEXT,\n",
      "  \"state\" TEXT\n",
      ")\n",
      "CREATE TABLE \"dimHospital\" (\n",
      "\"fips\" INTEGER,\n",
      "  \"state_name\" TEXT,\n",
      "  \"latitude\" REAL,\n",
      "  \"longtitude\" REAL,\n",
      "  \"hq_address\" TEXT,\n",
      "  \"hospital_name\" TEXT,\n",
      "  \"hospital_type\" TEXT,\n",
      "  \"hq_city\" TEXT,\n",
      "  \"hq_state\" TEXT\n",
      ")\n",
      "CREATE TABLE \"dimDate\" (\n",
      "\"fips\" INTEGER,\n",
      "  \"date\" TIMESTAMP,\n",
      "  \"year\" INTEGER,\n",
      "  \"month\" INTEGER,\n",
      "  \"day_of_week\" INTEGER\n",
      ")\n"
     ]
    }
   ],
   "source": [
    "# use reset_index() to include index\n",
    "#factCovidSQL = pd.io.sql.get_schema(factCovid.reset_index(), star_schema[0][\"table_name\"])\n",
    "factCovidSQL = pd.io.sql.get_schema(factCovid, star_schema[0][\"table_name\"])\n",
    "dimRegionSQL = pd.io.sql.get_schema(dimRegion, star_schema[1][\"table_name\"])\n",
    "dimHospitalSQL = pd.io.sql.get_schema(dimHospital, star_schema[2][\"table_name\"])\n",
    "dimDateSQL = pd.io.sql.get_schema(dimDate, star_schema[3][\"table_name\"])\n",
    "print(''.join(factCovidSQL))\n",
    "print(''.join(dimRegionSQL))\n",
    "print(''.join(dimHospitalSQL))\n",
    "print(''.join(dimDateSQL))"
   ]
  },
  {
   "cell_type": "markdown",
   "id": "4b6ddd48-703c-4418-aaca-c6402bc3a560",
   "metadata": {},
   "source": [
    "# use redshift_connector"
   ]
  },
  {
   "cell_type": "code",
   "execution_count": 280,
   "id": "32268c40-8b75-4114-b7a9-1754f0ba2ecf",
   "metadata": {},
   "outputs": [],
   "source": [
    "import configparser\n",
    "\n",
    "config = configparser.ConfigParser()\n",
    "config.read_file(open('cluster.config'))\n",
    "\n",
    "AWS_ACCESS_KEY = config.get(\"AWS\",\"KEY\")\n",
    "AWS_SECRET_KEY = config.get(\"AWS\",\"SECRET\")\n",
    "AWS_REGION = config.get(\"AWS\",\"REGION\")\n",
    "SCHEMA_NAME = config.get(\"DB\",\"SCHEMA\")\n",
    "DWH_CLUSTER_TYPE = config.get(\"DWH\",\"DWH_CLUSTER_TYPE\")\n",
    "DWH_NUM_NODES = config.get(\"DWH\",\"DWH_NUM_NODES\")\n",
    "DWH_NODE_TYPE = config.get(\"DWH\",\"DWH_NODE_TYPE\")\n",
    "DWH_CLUSTER_IDENTIFIER = config.get(\"DWH\",\"DWH_CLUSTER_IDENTIFIER\")\n",
    "DWH_DB = config.get(\"DWH\",\"DWH_DB\")\n",
    "DWH_DB_USER = config.get(\"DWH\",\"DWH_DB_USER\")\n",
    "DWH_DB_PASSWORD = config.get(\"DWH\",\"DWH_DB_PASSWORD\")\n",
    "DWH_IAM_ROLE_NAME = config.get(\"DWH\",\"DWH_IAM_ROLE_NAME\")"
   ]
  },
  {
   "cell_type": "code",
   "execution_count": 281,
   "id": "b4de9cf5-4e23-4836-96f0-6aaf2356c12e",
   "metadata": {},
   "outputs": [],
   "source": [
    "import pandas as pd\n",
    "import redshift_connector"
   ]
  },
  {
   "cell_type": "code",
   "execution_count": 198,
   "id": "33ab515d-acff-41a3-8197-3008d647d473",
   "metadata": {},
   "outputs": [
    {
     "data": {
      "text/html": [
       "<div>\n",
       "<style scoped>\n",
       "    .dataframe tbody tr th:only-of-type {\n",
       "        vertical-align: middle;\n",
       "    }\n",
       "\n",
       "    .dataframe tbody tr th {\n",
       "        vertical-align: top;\n",
       "    }\n",
       "\n",
       "    .dataframe thead th {\n",
       "        text-align: right;\n",
       "    }\n",
       "</style>\n",
       "<table border=\"1\" class=\"dataframe\">\n",
       "  <thead>\n",
       "    <tr style=\"text-align: right;\">\n",
       "      <th></th>\n",
       "      <th>key</th>\n",
       "      <th>Value</th>\n",
       "    </tr>\n",
       "  </thead>\n",
       "  <tbody>\n",
       "    <tr>\n",
       "      <th>0</th>\n",
       "      <td>ClusterIdentifier</td>\n",
       "      <td>sunny-redshift</td>\n",
       "    </tr>\n",
       "    <tr>\n",
       "      <th>1</th>\n",
       "      <td>NodeType</td>\n",
       "      <td>dc2.large</td>\n",
       "    </tr>\n",
       "    <tr>\n",
       "      <th>2</th>\n",
       "      <td>ClusterStatus</td>\n",
       "      <td>available</td>\n",
       "    </tr>\n",
       "    <tr>\n",
       "      <th>3</th>\n",
       "      <td>MasterUsername</td>\n",
       "      <td>awsuser</td>\n",
       "    </tr>\n",
       "    <tr>\n",
       "      <th>4</th>\n",
       "      <td>DBName</td>\n",
       "      <td>testload</td>\n",
       "    </tr>\n",
       "    <tr>\n",
       "      <th>5</th>\n",
       "      <td>Endpoint</td>\n",
       "      <td>{'Address': 'sunny-redshift.czyamnxhlqou.us-east-2.redshift.amazonaws.com', 'Port': 5439}</td>\n",
       "    </tr>\n",
       "    <tr>\n",
       "      <th>6</th>\n",
       "      <td>VpcId</td>\n",
       "      <td>vpc-0e4182b61e5736a09</td>\n",
       "    </tr>\n",
       "    <tr>\n",
       "      <th>7</th>\n",
       "      <td>IamRoles</td>\n",
       "      <td>[{'IamRoleArn': 'arn:aws:iam::724295183885:role/service-role/AmazonRedshift-CommandsAccessRole-20230212T180621', 'ApplyStatus': 'in-sync'}]</td>\n",
       "    </tr>\n",
       "  </tbody>\n",
       "</table>\n",
       "</div>"
      ],
      "text/plain": [
       "                 key  \\\n",
       "0  ClusterIdentifier   \n",
       "1           NodeType   \n",
       "2      ClusterStatus   \n",
       "3     MasterUsername   \n",
       "4             DBName   \n",
       "5           Endpoint   \n",
       "6              VpcId   \n",
       "7           IamRoles   \n",
       "\n",
       "                                                                                                                                         Value  \n",
       "0                                                                                                                               sunny-redshift  \n",
       "1                                                                                                                                    dc2.large  \n",
       "2                                                                                                                                    available  \n",
       "3                                                                                                                                      awsuser  \n",
       "4                                                                                                                                     testload  \n",
       "5                                                    {'Address': 'sunny-redshift.czyamnxhlqou.us-east-2.redshift.amazonaws.com', 'Port': 5439}  \n",
       "6                                                                                                                        vpc-0e4182b61e5736a09  \n",
       "7  [{'IamRoleArn': 'arn:aws:iam::724295183885:role/service-role/AmazonRedshift-CommandsAccessRole-20230212T180621', 'ApplyStatus': 'in-sync'}]  "
      ]
     },
     "execution_count": 198,
     "metadata": {},
     "output_type": "execute_result"
    }
   ],
   "source": [
    "iam = boto3.client('iam', region_name=\"us-east-2\", aws_access_key_id=AWS_ACCESS_KEY, aws_secret_access_key=AWS_SECRET_KEY)\n",
    "redshift = boto3.client('redshift', region_name=\"us-east-2\", aws_access_key_id=AWS_ACCESS_KEY, aws_secret_access_key=AWS_SECRET_KEY)\n",
    "\n",
    "def prettyRedshiftProps(props):\n",
    "    pd.set_option('display.max_colwidth', None)\n",
    "    keysToShow = [\"ClusterIdentifier\", \"NodeType\", \"ClusterStatus\", \"MasterUsername\", \"DBName\", \"Endpoint\", \"IamRoles\", \"VpcId\"]\n",
    "    x = [(k, v) for k,v in props.items() if k in keysToShow]\n",
    "    return pd.DataFrame(data=x, columns=[\"key\", \"Value\"])\n",
    "\n",
    "myClusterProps = redshift.describe_clusters(ClusterIdentifier=DWH_CLUSTER_IDENTIFIER)['Clusters'][0]\n",
    "prettyRedshiftProps(myClusterProps)"
   ]
  },
  {
   "cell_type": "code",
   "execution_count": 199,
   "id": "d00cacde-8621-4c2d-ae1f-85a03017b1a6",
   "metadata": {},
   "outputs": [],
   "source": [
    "DWH_ENDPOINT = myClusterProps[\"Endpoint\"][\"Address\"]\n",
    "DWH_PORT = myClusterProps[\"Endpoint\"][\"Port\"]"
   ]
  },
  {
   "cell_type": "code",
   "execution_count": 200,
   "id": "db67da1d-dc2b-4d3d-a5da-ae501e9717b5",
   "metadata": {},
   "outputs": [
    {
     "name": "stdout",
     "output_type": "stream",
     "text": [
      "testload\n",
      "awsuser\n"
     ]
    }
   ],
   "source": [
    "print(DWH_DB)\n",
    "print(DWH_DB_USER)"
   ]
  },
  {
   "cell_type": "code",
   "execution_count": 201,
   "id": "5e622216-9af9-418f-b5d6-4bfc56807a30",
   "metadata": {},
   "outputs": [],
   "source": [
    "conn = redshift_connector.connect(host=DWH_ENDPOINT, port=DWH_PORT,\n",
    "                                  database=DWH_DB, user=DWH_DB_USER, password=DWH_DB_PASSWORD)\n",
    "conn.autocommit = True"
   ]
  },
  {
   "cell_type": "code",
   "execution_count": 202,
   "id": "b5422465-f9f8-4b66-8979-f6a9bba08fc1",
   "metadata": {},
   "outputs": [],
   "source": [
    "cursor = redshift_connector.Cursor = conn.cursor()"
   ]
  },
  {
   "cell_type": "code",
   "execution_count": 203,
   "id": "5a96bdc8-cbd3-4a8a-9079-95313c955222",
   "metadata": {},
   "outputs": [
    {
     "data": {
      "text/plain": [
       "<redshift_connector.cursor.Cursor at 0x2296cddac70>"
      ]
     },
     "execution_count": 203,
     "metadata": {},
     "output_type": "execute_result"
    }
   ],
   "source": [
    "cursor.execute(\"\"\"\n",
    "CREATE TABLE \"factCovid\" (\n",
    "  \"fips\" REAL,\n",
    "  \"province_state\" TEXT,\n",
    "  \"country_region\" TEXT,\n",
    "  \"confirmed\" REAL,\n",
    "  \"deaths\" REAL,\n",
    "  \"recovered\" REAL,\n",
    "  \"active\" REAL,\n",
    "  \"date\" INTEGER,\n",
    "  \"positive\" INTEGER,\n",
    "  \"negative\" REAL,\n",
    "  \"hospitalizedcurrently\" REAL,\n",
    "  \"hospitalized\" REAL,\n",
    "  \"hospitalizeddischarged\" REAL\n",
    ")\n",
    "\n",
    "\"\"\")"
   ]
  },
  {
   "cell_type": "code",
   "execution_count": 204,
   "id": "72ce9511-9638-45c2-a284-fed8f14402ed",
   "metadata": {},
   "outputs": [
    {
     "data": {
      "text/plain": [
       "<redshift_connector.cursor.Cursor at 0x2296cddac70>"
      ]
     },
     "execution_count": 204,
     "metadata": {},
     "output_type": "execute_result"
    }
   ],
   "source": [
    "cursor.execute(\"\"\"\n",
    "CREATE TABLE \"dimRegion\" (\n",
    " \"fips\" REAL,\n",
    "  \"province_state\" TEXT,\n",
    "  \"country_region\" TEXT,\n",
    "  \"latitude\" REAL,\n",
    "  \"longitude\" REAL,\n",
    "  \"county\" TEXT,\n",
    "  \"state\" TEXT\n",
    ")\n",
    "\n",
    "\"\"\")"
   ]
  },
  {
   "cell_type": "code",
   "execution_count": 205,
   "id": "dc518dcb-1332-477e-8e8b-e2c03e70e063",
   "metadata": {},
   "outputs": [
    {
     "data": {
      "text/plain": [
       "<redshift_connector.cursor.Cursor at 0x2296cddac70>"
      ]
     },
     "execution_count": 205,
     "metadata": {},
     "output_type": "execute_result"
    }
   ],
   "source": [
    "cursor.execute(\"\"\"\n",
    "CREATE TABLE \"dimHospital\" (\n",
    "  \"fips\" INTEGER,\n",
    "  \"state_name\" TEXT,\n",
    "  \"latitude\" REAL,\n",
    "  \"longtitude\" REAL,\n",
    "  \"hq_address\" TEXT,\n",
    "  \"hospital_name\" TEXT,\n",
    "  \"hospital_type\" TEXT,\n",
    "  \"hq_city\" TEXT,\n",
    "  \"hq_state\" TEXT\n",
    ")\n",
    "\"\"\")"
   ]
  },
  {
   "cell_type": "code",
   "execution_count": 206,
   "id": "4abe0b93-5f34-4be9-9eff-bf8d0e9800c4",
   "metadata": {},
   "outputs": [
    {
     "data": {
      "text/plain": [
       "<redshift_connector.cursor.Cursor at 0x2296cddac70>"
      ]
     },
     "execution_count": 206,
     "metadata": {},
     "output_type": "execute_result"
    }
   ],
   "source": [
    "cursor.execute(\"\"\"\n",
    "CREATE TABLE \"dimDate\" (\n",
    "  \"fips\" INTEGER,\n",
    "  \"date\" TIMESTAMP,\n",
    "  \"year\" INTEGER,\n",
    "  \"month\" INTEGER,\n",
    "  \"day_of_week\" INTEGER\n",
    ")\n",
    "\"\"\")"
   ]
  },
  {
   "cell_type": "code",
   "execution_count": 207,
   "id": "fbdfdd60-0a27-490c-b264-75bd6a9d6ebd",
   "metadata": {},
   "outputs": [
    {
     "data": {
      "text/plain": [
       "<redshift_connector.cursor.Cursor at 0x2296cddac70>"
      ]
     },
     "execution_count": 207,
     "metadata": {},
     "output_type": "execute_result"
    }
   ],
   "source": [
    "cursor.execute(\"\"\"\n",
    "               COPY testload.public.dimdate (fips,date,year,month,day_of_week) \n",
    "               FROM 's3://sunny-general-bucket/output/dimDate.csv' \n",
    "               IAM_ROLE 'arn:aws:iam::724295183885:role/service-role/AmazonRedshift-CommandsAccessRole-20230212T180621' \n",
    "               FORMAT AS CSV DELIMITER ',' QUOTE '\"' IGNOREHEADER 1 DATEFORMAT 'yyyy-mm-dd' REGION AS 'us-east-2'\n",
    "               \"\"\")"
   ]
  },
  {
   "cell_type": "code",
   "execution_count": null,
   "id": "40190b7d-5e7b-4dc0-8592-c8f8b801ed63",
   "metadata": {},
   "outputs": [],
   "source": []
  },
  {
   "cell_type": "code",
   "execution_count": null,
   "id": "8ada9d5e-67f8-4c9d-b15e-817a1517fc5e",
   "metadata": {},
   "outputs": [],
   "source": []
  }
 ],
 "metadata": {
  "kernelspec": {
   "display_name": "Python 3 (ipykernel)",
   "language": "python",
   "name": "python3"
  },
  "language_info": {
   "codemirror_mode": {
    "name": "ipython",
    "version": 3
   },
   "file_extension": ".py",
   "mimetype": "text/x-python",
   "name": "python",
   "nbconvert_exporter": "python",
   "pygments_lexer": "ipython3",
   "version": "3.9.13"
  },
  "toc-showcode": true
 },
 "nbformat": 4,
 "nbformat_minor": 5
}

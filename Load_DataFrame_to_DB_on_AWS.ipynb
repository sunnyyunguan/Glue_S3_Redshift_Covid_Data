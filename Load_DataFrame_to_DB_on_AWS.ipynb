{
 "cells": [
  {
   "cell_type": "code",
   "execution_count": null,
   "id": "66ba7882-e4a5-489d-ba6e-e8ad9477fe66",
   "metadata": {},
   "outputs": [],
   "source": [
    "import psycopg2 as ps\n",
    "import pandas as pd"
   ]
  },
  {
   "cell_type": "code",
   "execution_count": 22,
   "id": "a142c5ea-b599-4e3d-a13a-ef976f88389b",
   "metadata": {},
   "outputs": [],
   "source": [
    "#upload your CSV files here\n",
    "df = pd.read_csv('Magic_Ingredients_Videos_Stats_V2.csv', index_col=0) \n",
    "df.head()"
   ]
  },
  {
   "cell_type": "code",
   "execution_count": null,
   "id": "49fe660b-d503-43f7-8f22-2750ac5bc5c5",
   "metadata": {},
   "outputs": [],
   "source": [
    "def connect_to_db(host_name, dbname, port, username, password):\n",
    "    try:\n",
    "        conn = ps.connect(host=host_name, database=dbname, user=username, password=password, port=port)\n",
    "\n",
    "    except ps.OperationalError as e:\n",
    "        raise e\n",
    "    else:\n",
    "        print('Connected!')\n",
    "        return conn\n",
    "\n",
    "def create_table(curr):\n",
    "    create_table_command = (\"\"\"create table if not exists videos (\n",
    "                                        video_id varchar(50) primary key,\n",
    "                                        channel_title text not null,\n",
    "                                        title varchar(100),\n",
    "                                        description varchar(1000),\n",
    "                                        published_at date,\n",
    "                                        view_count integer not null,\n",
    "                                        like_count integer not null,\n",
    "                                        dislike_count integer not null,\n",
    "                                        comment_count integer not null,\n",
    "                                        duration varchar(20),\n",
    "                                        caption boolean,\n",
    "                                        load_date date not null default current_date )\"\"\"\n",
    "                           )\n",
    "    curr.execute(create_table_command)\n",
    "\n",
    "def insert_into_table(curr, video_id, video_title, upload_date, view_count, like_count, dislike_count, comment_count):\n",
    "    insert_into_videos = (\"\"\"INSERT INTO videos (video_id, video_title, upload_date,\n",
    "                        view_count, like_count, dislike_count,comment_count)\n",
    "    VALUES(%s,%s,%s,%s,%s,%s,%s);\"\"\")\n",
    "    row_to_insert = (video_id, video_title, upload_date, view_count, like_count, dislike_count, comment_count)\n",
    "    curr.execute(insert_into_videos, row_to_insert)\n",
    "\n",
    "\n",
    "def update_row(curr, video_id, video_title, view_count, like_count, dislike_count, comment_count):\n",
    "    query = (\"\"\"UPDATE videos\n",
    "            SET video_title = %s,\n",
    "                view_count = %s,\n",
    "                like_count = %s,\n",
    "                dislike_count = %s,\n",
    "                comment_count = %s\n",
    "            WHERE video_id = %s;\"\"\")\n",
    "    vars_to_update = (video_title, view_count, like_count, dislike_count, comment_count, video_id)\n",
    "    curr.execute(query, vars_to_update)\n",
    "\n",
    "\n",
    "def check_if_video_exists(curr, video_id): \n",
    "    query = (\"\"\"SELECT video_id FROM VIDEOS WHERE video_id = %s\"\"\")\n",
    "\n",
    "    curr.execute(query, (video_id,))\n",
    "    return curr.fetchone() is not None\n",
    "\n",
    "\n",
    "\n",
    "def truncate_table(curr):\n",
    "    truncate_table = (\"\"\"TRUNCATE TABLE videos\"\"\")\n",
    "\n",
    "    curr.execute(truncate_table)\n",
    "\n",
    "\n",
    "def append_from_df_to_db(curr,df):\n",
    "    for i, row in df.iterrows():\n",
    "        insert_into_table(curr, row['video_id'], row['video_title'], row['upload_date'], row['view_count']\n",
    "                          , row['like_count'], row['dislike_count'], row['comment_count'])\n",
    "\n",
    "\n",
    "def update_db(curr,df):\n",
    "    tmp_df = pd.DataFrame(columns=['video_id', 'video_title', 'upload_date', 'view_count',\n",
    "                                   'like_count', 'dislike_count', 'comment_count'])\n",
    "    for i, row in df.iterrows():\n",
    "        if check_if_video_exists(curr, row['video_id']): # If video already exists then we will update\n",
    "            update_row(curr,row['video_id'],row['video_title'],row['view_count'],row['like_count'],row['dislike_count'],row['comment_count'])\n",
    "        else: # The video doesn't exists so we will add it to a temp df and append it using append_from_df_to_db\n",
    "            tmp_df = tmp_df.append(row)\n",
    "\n",
    "    return tmp_df"
   ]
  },
  {
   "cell_type": "code",
   "execution_count": 86,
   "id": "909d8be2-8390-4336-8ad1-9d52aebcf6ad",
   "metadata": {},
   "outputs": [],
   "source": [
    "video_df.to_csv('Magic_Ingredients_Videos_Stats_V2.csv', index=False)"
   ]
  },
  {
   "cell_type": "code",
   "execution_count": null,
   "id": "41392c4a-fe49-42de-8610-3e5712739909",
   "metadata": {},
   "outputs": [],
   "source": [
    "#Main\n",
    "\n",
    "#database credentials\n",
    "host_name = 'xxxxxxxxx.rds.amazonaws.com'\n",
    "dbname = 'xxxxx'\n",
    "port = '5432'\n",
    "username = 'xxxx' \n",
    "password = 'xxxxxxx'\n",
    "conn = None\n",
    "\n",
    "#establish a connection to db\n",
    "conn = connect_to_db(host_name, dbname, port, username, password)\n",
    "curr = conn.cursor()     "
   ]
  },
  {
   "cell_type": "code",
   "execution_count": null,
   "id": "ff9b3964-2401-4ce5-b66c-267faea7d0c3",
   "metadata": {},
   "outputs": [],
   "source": [
    "#create table\n",
    "create_table(curr)"
   ]
  },
  {
   "cell_type": "code",
   "execution_count": null,
   "id": "dabbf285-4b46-4a8e-9d08-665929ff41c1",
   "metadata": {},
   "outputs": [],
   "source": [
    "#update data for existing videos\n",
    "new_vid_df = update_db(curr,df)\n",
    "conn.commit()"
   ]
  },
  {
   "cell_type": "code",
   "execution_count": null,
   "id": "805b308f-914c-4d37-8f28-9948548ee310",
   "metadata": {},
   "outputs": [],
   "source": [
    "#insert new videos into db table\n",
    "append_from_df_to_db(curr, new_vid_df)\n",
    "conn.commit()"
   ]
  },
  {
   "cell_type": "code",
   "execution_count": null,
   "id": "a6f4861a-736c-4e8a-a9c1-bd3d6e5c94ec",
   "metadata": {},
   "outputs": [],
   "source": [
    "#view data in db table\n",
    "curr.execute(\"SELECT * FROM VIDEOS\")\n",
    "print(curr.fetchall())"
   ]
  }
 ],
 "metadata": {
  "kernelspec": {
   "display_name": "Python 3 (ipykernel)",
   "language": "python",
   "name": "python3"
  },
  "language_info": {
   "codemirror_mode": {
    "name": "ipython",
    "version": 3
   },
   "file_extension": ".py",
   "mimetype": "text/x-python",
   "name": "python",
   "nbconvert_exporter": "python",
   "pygments_lexer": "ipython3",
   "version": "3.9.13"
  }
 },
 "nbformat": 4,
 "nbformat_minor": 5
}

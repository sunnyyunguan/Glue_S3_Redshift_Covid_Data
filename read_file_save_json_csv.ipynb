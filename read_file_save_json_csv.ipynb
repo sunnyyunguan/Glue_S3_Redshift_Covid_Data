{
 "cells": [
  {
   "cell_type": "code",
   "execution_count": 2,
   "id": "6e236d32-12f6-4b42-894a-775172545da2",
   "metadata": {},
   "outputs": [],
   "source": [
    "import json\n",
    "import pandas as pd"
   ]
  },
  {
   "cell_type": "code",
   "execution_count": 11,
   "id": "ee1fc92e-90b1-4315-8b8e-1e4d7d0d4167",
   "metadata": {},
   "outputs": [],
   "source": [
    "f = open('usa-hospital-beds.geojson.4cCa297c')\n",
    "  \n",
    "# returns JSON object as a dictionary\n",
    "data = json.load(f)"
   ]
  },
  {
   "cell_type": "code",
   "execution_count": 14,
   "id": "a93bb6ac-9cd5-4fba-be1a-f0e4909aab9a",
   "metadata": {},
   "outputs": [],
   "source": [
    "df = pd.DataFrame(data=data)"
   ]
  },
  {
   "cell_type": "code",
   "execution_count": 20,
   "id": "67eb82d5-7153-47e8-a266-1137804f489b",
   "metadata": {},
   "outputs": [],
   "source": [
    "df.to_csv(\"usa_hospital_beds.csv\", index=False)"
   ]
  },
  {
   "cell_type": "code",
   "execution_count": null,
   "id": "52723c6d-dee1-48f5-8dc4-49aa8ed9e57f",
   "metadata": {},
   "outputs": [],
   "source": []
  }
 ],
 "metadata": {
  "kernelspec": {
   "display_name": "Python 3 (ipykernel)",
   "language": "python",
   "name": "python3"
  },
  "language_info": {
   "codemirror_mode": {
    "name": "ipython",
    "version": 3
   },
   "file_extension": ".py",
   "mimetype": "text/x-python",
   "name": "python",
   "nbconvert_exporter": "python",
   "pygments_lexer": "ipython3",
   "version": "3.9.13"
  }
 },
 "nbformat": 4,
 "nbformat_minor": 5
}
